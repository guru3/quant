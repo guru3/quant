{
 "cells": [
  {
   "cell_type": "markdown",
   "metadata": {},
   "source": [
    "Let's jump right into it. What's covariance ? Covariance explains extent to which a linear relationship exists between two variables - linear being the key! This number can be positive or negative, depending on whether they both move in same direction or opposite. Covariance of variable with itself equals to variance squared.<br>\n",
    "**Cov(X,Y) = E( X - E(X) ).E( Y - E(Y) )**\n",
    "\n",
    "Covariance isn't meaningful by itself. Note that magnitude of covariance isn't indicative of strength of the relationship. The normalized version of covariance however, called as correlation coefficient, is better indicator of strength of relationship between two variables. Correlation coefficient is evaluated by dividing covariance of two variables by their variances (or calculate covariance between variables after normalizing them i.e. dividing them by their variances).<br>\n",
    "Let's use an example to understand this better."
   ]
  },
  {
   "cell_type": "code",
   "execution_count": 2,
   "metadata": {},
   "outputs": [
    {
     "data": {
      "image/png": "[encoded data removed]",
      "text/plain": [
       "<Figure size 432x288 with 1 Axes>"
      ]
     },
     "metadata": {
      "needs_background": "light"
     },
     "output_type": "display_data"
    },
    {
     "name": "stdout",
     "output_type": "stream",
     "text": [
      "Covariance between two variables is 0.15\n",
      "Correlation coefficient between them is 0.98\n"
     ]
    }
   ],
   "source": [
    "import numpy as np\n",
    "import matplotlib.pyplot as plt\n",
    "\n",
    "X = np.random.rand(100)\n",
    "Y = 2*X + np.random.normal(0, 0.1, 100)\n",
    "covariance = np.cov(X, Y)[0, 1]\n",
    "correlation = np.corrcoef(X, Y)[0, 1]\n",
    "\n",
    "plt.scatter(X,Y)\n",
    "plt.xlabel('X')\n",
    "plt.ylabel('Y')\n",
    "plt.show()\n",
    "print('Covariance between two variables is %.2f\\nCorrelation coefficient between them is %.2f' % (covariance, correlation))"
   ]
  },
  {
   "cell_type": "markdown",
   "metadata": {},
   "source": [
    "Why is establishing correlation between two series important? There are many applications that arise from this.<br>\n",
    "1. If we have correlation between two series, looking at first variable can help us predict at future price of second variable<br>\n",
    "2. We can also use uncorrelated assets to create a portfolio, so that if some market element results in loss in first asset's position, other assets may remain unaffected.\n",
    "\n",
    "Note that correlation does not mean causation! Just because two random variables are correlated doesn't mean that change in one would eventually lead to change in price of another random variable. Thus correlation and causation should not be confused with each other<br>\n",
    "Also, correlation between two asset prices may not be valid for all durations of time - it maybe valid over time you choose to run analysis on, but is it valid in future? One should also try to run this analysis over many time periods - as in over each day, month, etc to get better idea of correlation."
   ]
  },
  {
   "cell_type": "code",
   "execution_count": null,
   "metadata": {},
   "outputs": [],
   "source": []
  }
 ],
 "metadata": {
  "kernelspec": {
   "display_name": "Python 3",
   "language": "python",
   "name": "python3"
  },
  "language_info": {
   "codemirror_mode": {
    "name": "ipython",
    "version": 3
   },
   "file_extension": ".py",
   "mimetype": "text/x-python",
   "name": "python",
   "nbconvert_exporter": "python",
   "pygments_lexer": "ipython3",
   "version": "3.7.4"
  }
 },
 "nbformat": 4,
 "nbformat_minor": 2
}
